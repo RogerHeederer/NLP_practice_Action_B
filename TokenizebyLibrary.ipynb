{
  "nbformat": 4,
  "nbformat_minor": 0,
  "metadata": {
    "colab": {
      "name": "TokenizebyLibrary.ipynb",
      "provenance": [],
      "authorship_tag": "ABX9TyPMNEZFyT80zU+ZngcPXONF",
      "include_colab_link": true
    },
    "kernelspec": {
      "name": "python3",
      "display_name": "Python 3"
    }
  },
  "cells": [
    {
      "cell_type": "markdown",
      "metadata": {
        "id": "view-in-github",
        "colab_type": "text"
      },
      "source": [
        "<a href=\"https://colab.research.google.com/github/RogerHeederer/NLP_practice_Action_B/blob/master/TokenizebyLibrary.ipynb\" target=\"_parent\"><img src=\"https://colab.research.google.com/assets/colab-badge.svg\" alt=\"Open In Colab\"/></a>"
      ]
    },
    {
      "cell_type": "code",
      "metadata": {
        "id": "88-hW8_gh8FO",
        "colab_type": "code",
        "colab": {}
      },
      "source": [
        "from nltk.tokenize import TreebankWordTokenizer"
      ],
      "execution_count": 1,
      "outputs": []
    },
    {
      "cell_type": "code",
      "metadata": {
        "id": "NOjB-xyOiSD2",
        "colab_type": "code",
        "colab": {}
      },
      "source": [
        "sentence = \"Monticello wasn't designated as UNESCO WOrld Heritage Site until 1987.\""
      ],
      "execution_count": 6,
      "outputs": []
    },
    {
      "cell_type": "code",
      "metadata": {
        "id": "GLwueZQ6igKO",
        "colab_type": "code",
        "colab": {}
      },
      "source": [
        "tokenizer = TreebankWordTokenizer()"
      ],
      "execution_count": 7,
      "outputs": []
    },
    {
      "cell_type": "code",
      "metadata": {
        "id": "7zOBxrsNii68",
        "colab_type": "code",
        "colab": {
          "base_uri": "https://localhost:8080/",
          "height": 233
        },
        "outputId": "e9a52f72-f2f5-49a5-c7fb-19fc34ef10ea"
      },
      "source": [
        "tokenizer.tokenize(sentence)"
      ],
      "execution_count": 8,
      "outputs": [
        {
          "output_type": "execute_result",
          "data": {
            "text/plain": [
              "['Monticello',\n",
              " 'was',\n",
              " \"n't\",\n",
              " 'designated',\n",
              " 'as',\n",
              " 'UNESCO',\n",
              " 'WOrld',\n",
              " 'Heritage',\n",
              " 'Site',\n",
              " 'until',\n",
              " '1987',\n",
              " '.']"
            ]
          },
          "metadata": {
            "tags": []
          },
          "execution_count": 8
        }
      ]
    },
    {
      "cell_type": "code",
      "metadata": {
        "id": "8AKgmIqFilXm",
        "colab_type": "code",
        "colab": {
          "base_uri": "https://localhost:8080/",
          "height": 197
        },
        "outputId": "0f61c246-d7be-4b6b-9f3a-2fdc5e04824a"
      },
      "source": [
        "from nltk.tokenize import RegexpTokenizer\n",
        "tokenizer = RegexpTokenizer(r'/w+|$[0-9.]+|\\S+')\n",
        "tokenizer.tokenize(sentence)"
      ],
      "execution_count": 11,
      "outputs": [
        {
          "output_type": "execute_result",
          "data": {
            "text/plain": [
              "['Monticello',\n",
              " \"wasn't\",\n",
              " 'designated',\n",
              " 'as',\n",
              " 'UNESCO',\n",
              " 'WOrld',\n",
              " 'Heritage',\n",
              " 'Site',\n",
              " 'until',\n",
              " '1987.']"
            ]
          },
          "metadata": {
            "tags": []
          },
          "execution_count": 11
        }
      ]
    },
    {
      "cell_type": "code",
      "metadata": {
        "id": "IuinItvCi78l",
        "colab_type": "code",
        "colab": {}
      },
      "source": [
        "from nltk.tokenize.casual import casual_tokenize"
      ],
      "execution_count": 12,
      "outputs": []
    },
    {
      "cell_type": "code",
      "metadata": {
        "id": "4XFv1ga-lDN1",
        "colab_type": "code",
        "colab": {
          "base_uri": "https://localhost:8080/",
          "height": 269
        },
        "outputId": "a62d9bca-2ca0-4434-ce98-a50376ad130e"
      },
      "source": [
        "message = \"'''RT @TJMonticello Best day everrrrrr at Monticello. Awesommmmmeeeee day :*)\"\n",
        "casual_tokenize(message)"
      ],
      "execution_count": 13,
      "outputs": [
        {
          "output_type": "execute_result",
          "data": {
            "text/plain": [
              "[\"'\",\n",
              " \"'\",\n",
              " \"'\",\n",
              " 'RT',\n",
              " '@TJMonticello',\n",
              " 'Best',\n",
              " 'day',\n",
              " 'everrrrrr',\n",
              " 'at',\n",
              " 'Monticello',\n",
              " '.',\n",
              " 'Awesommmmmeeeee',\n",
              " 'day',\n",
              " ':*)']"
            ]
          },
          "metadata": {
            "tags": []
          },
          "execution_count": 13
        }
      ]
    },
    {
      "cell_type": "code",
      "metadata": {
        "id": "Wmn2uG0DlVsG",
        "colab_type": "code",
        "colab": {
          "base_uri": "https://localhost:8080/",
          "height": 251
        },
        "outputId": "89d2337b-6d34-4eb5-c93a-c37ae00a2157"
      },
      "source": [
        "casual_tokenize(message, reduce_len=True, strip_handles=True)"
      ],
      "execution_count": 14,
      "outputs": [
        {
          "output_type": "execute_result",
          "data": {
            "text/plain": [
              "[\"'\",\n",
              " \"'\",\n",
              " \"'\",\n",
              " 'RT',\n",
              " 'Best',\n",
              " 'day',\n",
              " 'everrr',\n",
              " 'at',\n",
              " 'Monticello',\n",
              " '.',\n",
              " 'Awesommmeee',\n",
              " 'day',\n",
              " ':*)']"
            ]
          },
          "metadata": {
            "tags": []
          },
          "execution_count": 14
        }
      ]
    },
    {
      "cell_type": "code",
      "metadata": {
        "id": "tiau-V2qldEk",
        "colab_type": "code",
        "colab": {}
      },
      "source": [
        ""
      ],
      "execution_count": null,
      "outputs": []
    }
  ]
}