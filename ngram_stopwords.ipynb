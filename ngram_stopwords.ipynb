{
  "nbformat": 4,
  "nbformat_minor": 0,
  "metadata": {
    "colab": {
      "name": "ngram_stopwords.ipynb",
      "provenance": [],
      "authorship_tag": "ABX9TyOUWXnmbnE1yw2pA4nnlNKX",
      "include_colab_link": true
    },
    "kernelspec": {
      "name": "python3",
      "display_name": "Python 3"
    }
  },
  "cells": [
    {
      "cell_type": "markdown",
      "metadata": {
        "id": "view-in-github",
        "colab_type": "text"
      },
      "source": [
        "<a href=\"https://colab.research.google.com/github/RogerHeederer/NLP_practice_Action_B/blob/master/ngram_stopwords.ipynb\" target=\"_parent\"><img src=\"https://colab.research.google.com/assets/colab-badge.svg\" alt=\"Open In Colab\"/></a>"
      ]
    },
    {
      "cell_type": "markdown",
      "metadata": {
        "id": "8TDEgEVSL8-T",
        "colab_type": "text"
      },
      "source": [
        "\n",
        "Source reference : https://github.com/totalgood/nlpia\n",
        "\n",
        "어휘 구축, 토큰화 p64~70"
      ]
    },
    {
      "cell_type": "code",
      "metadata": {
        "id": "FN-FEBs9vNY-",
        "colab_type": "code",
        "colab": {}
      },
      "source": [
        "from nltk.util import ngrams\n",
        "import re"
      ],
      "execution_count": 7,
      "outputs": []
    },
    {
      "cell_type": "code",
      "metadata": {
        "id": "dC_jPUkqvTnF",
        "colab_type": "code",
        "colab": {}
      },
      "source": [
        "sentence = \"Thomas Jefferson began building Monticello at the age of 26.\""
      ],
      "execution_count": 12,
      "outputs": []
    },
    {
      "cell_type": "code",
      "metadata": {
        "id": "8lqguVT5AZx6",
        "colab_type": "code",
        "colab": {}
      },
      "source": [
        "pattern = re.compile(r'([-\\s.,;!?])+')"
      ],
      "execution_count": 13,
      "outputs": []
    },
    {
      "cell_type": "code",
      "metadata": {
        "id": "_ZE10J0WAm7b",
        "colab_type": "code",
        "colab": {}
      },
      "source": [
        "tokens = pattern.split(sentence)"
      ],
      "execution_count": 14,
      "outputs": []
    },
    {
      "cell_type": "code",
      "metadata": {
        "id": "bZ-1By5iAsDh",
        "colab_type": "code",
        "colab": {
          "base_uri": "https://localhost:8080/",
          "height": 395
        },
        "outputId": "1cfc0c88-780d-45cb-c6a7-df8e57a0c58f"
      },
      "source": [
        "tokens"
      ],
      "execution_count": 15,
      "outputs": [
        {
          "output_type": "execute_result",
          "data": {
            "text/plain": [
              "['Thomas',\n",
              " ' ',\n",
              " 'Jefferson',\n",
              " ' ',\n",
              " 'began',\n",
              " ' ',\n",
              " 'building',\n",
              " ' ',\n",
              " 'Monticello',\n",
              " ' ',\n",
              " 'at',\n",
              " ' ',\n",
              " 'the',\n",
              " ' ',\n",
              " 'age',\n",
              " ' ',\n",
              " 'of',\n",
              " ' ',\n",
              " '26',\n",
              " '.',\n",
              " '']"
            ]
          },
          "metadata": {
            "tags": []
          },
          "execution_count": 15
        }
      ]
    },
    {
      "cell_type": "code",
      "metadata": {
        "id": "WAvffLAoAsyD",
        "colab_type": "code",
        "colab": {}
      },
      "source": [
        "tokens = [x for x in tokens if x and x not in '- \\t\\m.,;!?']"
      ],
      "execution_count": 19,
      "outputs": []
    },
    {
      "cell_type": "code",
      "metadata": {
        "id": "esz8i1rCAz7i",
        "colab_type": "code",
        "colab": {
          "base_uri": "https://localhost:8080/",
          "height": 197
        },
        "outputId": "20954ee3-c124-4437-c20c-1ef2701cab53"
      },
      "source": [
        "tokens"
      ],
      "execution_count": 20,
      "outputs": [
        {
          "output_type": "execute_result",
          "data": {
            "text/plain": [
              "['Thomas',\n",
              " 'Jefferson',\n",
              " 'began',\n",
              " 'building',\n",
              " 'Monticello',\n",
              " 'at',\n",
              " 'the',\n",
              " 'age',\n",
              " 'of',\n",
              " '26']"
            ]
          },
          "metadata": {
            "tags": []
          },
          "execution_count": 20
        }
      ]
    },
    {
      "cell_type": "code",
      "metadata": {
        "id": "xZb-t2U3A0jS",
        "colab_type": "code",
        "colab": {
          "base_uri": "https://localhost:8080/",
          "height": 179
        },
        "outputId": "b4e479d9-31eb-469b-eed4-2336d17dab57"
      },
      "source": [
        "list(ngrams(tokens,2))"
      ],
      "execution_count": 23,
      "outputs": [
        {
          "output_type": "execute_result",
          "data": {
            "text/plain": [
              "[('Thomas', 'Jefferson'),\n",
              " ('Jefferson', 'began'),\n",
              " ('began', 'building'),\n",
              " ('building', 'Monticello'),\n",
              " ('Monticello', 'at'),\n",
              " ('at', 'the'),\n",
              " ('the', 'age'),\n",
              " ('age', 'of'),\n",
              " ('of', '26')]"
            ]
          },
          "metadata": {
            "tags": []
          },
          "execution_count": 23
        }
      ]
    },
    {
      "cell_type": "code",
      "metadata": {
        "id": "R6Rvp6L0BUjx",
        "colab_type": "code",
        "colab": {
          "base_uri": "https://localhost:8080/",
          "height": 161
        },
        "outputId": "79462827-8d18-44c5-f497-d4caab3a3046"
      },
      "source": [
        "list(ngrams(tokens,3))"
      ],
      "execution_count": 24,
      "outputs": [
        {
          "output_type": "execute_result",
          "data": {
            "text/plain": [
              "[('Thomas', 'Jefferson', 'began'),\n",
              " ('Jefferson', 'began', 'building'),\n",
              " ('began', 'building', 'Monticello'),\n",
              " ('building', 'Monticello', 'at'),\n",
              " ('Monticello', 'at', 'the'),\n",
              " ('at', 'the', 'age'),\n",
              " ('the', 'age', 'of'),\n",
              " ('age', 'of', '26')]"
            ]
          },
          "metadata": {
            "tags": []
          },
          "execution_count": 24
        }
      ]
    },
    {
      "cell_type": "code",
      "metadata": {
        "id": "uSWVERnfBj8S",
        "colab_type": "code",
        "colab": {
          "base_uri": "https://localhost:8080/",
          "height": 179
        },
        "outputId": "fb306f15-6b01-4434-fa33-5093a86773c0"
      },
      "source": [
        "two_grams = list(ngrams(tokens, 2))\n",
        "[\" \".join(x) for x in two_grams]"
      ],
      "execution_count": 25,
      "outputs": [
        {
          "output_type": "execute_result",
          "data": {
            "text/plain": [
              "['Thomas Jefferson',\n",
              " 'Jefferson began',\n",
              " 'began building',\n",
              " 'building Monticello',\n",
              " 'Monticello at',\n",
              " 'at the',\n",
              " 'the age',\n",
              " 'age of',\n",
              " 'of 26']"
            ]
          },
          "metadata": {
            "tags": []
          },
          "execution_count": 25
        }
      ]
    },
    {
      "cell_type": "markdown",
      "metadata": {
        "id": "d2_pfImfDOu1",
        "colab_type": "text"
      },
      "source": [
        "**불용어 처리 예문**"
      ]
    },
    {
      "cell_type": "code",
      "metadata": {
        "id": "kwtWqwvKBs1N",
        "colab_type": "code",
        "colab": {
          "base_uri": "https://localhost:8080/",
          "height": 35
        },
        "outputId": "f8e6c2f6-3f9a-49ce-8c23-5d08b6639762"
      },
      "source": [
        "stop_words = ['a', 'an', 'the', 'on', 'of', 'off', 'this', 'is']\n",
        "tokens = ['the', 'house', 'is', 'on', 'fire']\n",
        "tokens_without_stopwords = [x for x in tokens if x not in stop_words]\n",
        "print(tokens_without_stopwords)"
      ],
      "execution_count": 27,
      "outputs": [
        {
          "output_type": "stream",
          "text": [
            "['house', 'fire']\n"
          ],
          "name": "stdout"
        }
      ]
    },
    {
      "cell_type": "markdown",
      "metadata": {
        "id": "VNeMqCnPD1yx",
        "colab_type": "text"
      },
      "source": [
        "**NLTK의 불용어 목록**i"
      ]
    },
    {
      "cell_type": "code",
      "metadata": {
        "id": "k0xv_ZpADqyt",
        "colab_type": "code",
        "colab": {
          "base_uri": "https://localhost:8080/",
          "height": 71
        },
        "outputId": "c5d755f5-0c74-42c1-a5ee-7cc9b7c393b1"
      },
      "source": [
        "import nltk\n",
        "nltk.download('stopwords')\n",
        "stop_words = nltk.corpus.stopwords.words('english')\n",
        "len(stop_words)"
      ],
      "execution_count": 29,
      "outputs": [
        {
          "output_type": "stream",
          "text": [
            "[nltk_data] Downloading package stopwords to /root/nltk_data...\n",
            "[nltk_data]   Unzipping corpora/stopwords.zip.\n"
          ],
          "name": "stdout"
        },
        {
          "output_type": "execute_result",
          "data": {
            "text/plain": [
              "179"
            ]
          },
          "metadata": {
            "tags": []
          },
          "execution_count": 29
        }
      ]
    },
    {
      "cell_type": "code",
      "metadata": {
        "id": "vi4b4w8-HTpq",
        "colab_type": "code",
        "colab": {
          "base_uri": "https://localhost:8080/",
          "height": 35
        },
        "outputId": "33ff3888-985b-41aa-ecef-b1b1c3e6f1cb"
      },
      "source": [
        "stop_words[:10]"
      ],
      "execution_count": 30,
      "outputs": [
        {
          "output_type": "execute_result",
          "data": {
            "text/plain": [
              "['i', 'me', 'my', 'myself', 'we', 'our', 'ours', 'ourselves', 'you', \"you're\"]"
            ]
          },
          "metadata": {
            "tags": []
          },
          "execution_count": 30
        }
      ]
    },
    {
      "cell_type": "markdown",
      "metadata": {
        "id": "w4uMEgN2HsN5",
        "colab_type": "text"
      },
      "source": [
        "**scikit-learn의 불용어 목록**"
      ]
    },
    {
      "cell_type": "code",
      "metadata": {
        "id": "0v9f_mHGHaeK",
        "colab_type": "code",
        "colab": {}
      },
      "source": [
        "from sklearn.feature_extraction.text import ENGLISH_STOP_WORDS as sklearn_stop_words"
      ],
      "execution_count": 32,
      "outputs": []
    },
    {
      "cell_type": "code",
      "metadata": {
        "id": "IZV1-ATQH8b0",
        "colab_type": "code",
        "colab": {
          "base_uri": "https://localhost:8080/",
          "height": 35
        },
        "outputId": "d0fd4bdf-20c7-424a-d578-9f63a2a08c17"
      },
      "source": [
        "len(sklearn_stop_words)"
      ],
      "execution_count": 33,
      "outputs": [
        {
          "output_type": "execute_result",
          "data": {
            "text/plain": [
              "318"
            ]
          },
          "metadata": {
            "tags": []
          },
          "execution_count": 33
        }
      ]
    },
    {
      "cell_type": "code",
      "metadata": {
        "id": "T0qbD38PIUoy",
        "colab_type": "code",
        "colab": {}
      },
      "source": [
        "stop_words2 = list(sklearn_stop_words)"
      ],
      "execution_count": 38,
      "outputs": []
    },
    {
      "cell_type": "code",
      "metadata": {
        "id": "MqcdOEIoId-5",
        "colab_type": "code",
        "colab": {
          "base_uri": "https://localhost:8080/",
          "height": 197
        },
        "outputId": "284f30e9-dd59-40fc-f36c-3d2f0ef01f04"
      },
      "source": [
        "stop_words2[:10]"
      ],
      "execution_count": 39,
      "outputs": [
        {
          "output_type": "execute_result",
          "data": {
            "text/plain": [
              "['ten',\n",
              " 'becomes',\n",
              " 'most',\n",
              " 'sincere',\n",
              " 'by',\n",
              " 'they',\n",
              " 'after',\n",
              " 'my',\n",
              " 'sometime',\n",
              " 'thereby']"
            ]
          },
          "metadata": {
            "tags": []
          },
          "execution_count": 39
        }
      ]
    },
    {
      "cell_type": "code",
      "metadata": {
        "id": "8BbDFYMgIm8y",
        "colab_type": "code",
        "colab": {}
      },
      "source": [
        ""
      ],
      "execution_count": null,
      "outputs": []
    }
  ]
}